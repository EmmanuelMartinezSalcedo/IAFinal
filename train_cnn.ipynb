{
 "cells": [
  {
   "cell_type": "code",
   "execution_count": 25,
   "id": "785376e2",
   "metadata": {},
   "outputs": [],
   "source": [
    "import torch\n",
    "from torch import nn, optim\n",
    "from torch.utils.data import DataLoader\n",
    "from torchvision import transforms\n",
    "from utils.custom_dataset import GTSRBCustomDataset\n",
    "from models.cnn_model import CNNModel\n",
    "import os\n",
    "import matplotlib.pyplot as plt\n",
    "from tqdm import tqdm"
   ]
  },
  {
   "cell_type": "code",
   "execution_count": 26,
   "id": "07887fff",
   "metadata": {},
   "outputs": [],
   "source": [
    "BATCH_SIZE = 32\n",
    "EPOCHS = 10\n",
    "CSV_PATH = \"dataset/Train.csv\"\n",
    "ROOT_DIR = \"dataset\""
   ]
  },
  {
   "cell_type": "code",
   "execution_count": 27,
   "id": "930873c9",
   "metadata": {},
   "outputs": [
    {
     "name": "stdout",
     "output_type": "stream",
     "text": [
      "Checking files...\n",
      "Using device: cuda\n"
     ]
    }
   ],
   "source": [
    "print(\"Checking files...\")\n",
    "if not os.path.exists(CSV_PATH):\n",
    "  raise FileNotFoundError(f\"CSV file not found: {CSV_PATH}\")\n",
    "if not os.path.exists(ROOT_DIR):\n",
    "  raise FileNotFoundError(f\"Root directory not found: {ROOT_DIR}\")\n",
    "\n",
    "device = torch.device('cuda' if torch.cuda.is_available() else 'cpu')\n",
    "print(f\"Using device: {device}\")"
   ]
  },
  {
   "cell_type": "code",
   "execution_count": 28,
   "id": "f31a9921",
   "metadata": {},
   "outputs": [],
   "source": [
    "transform = transforms.Compose([\n",
    "  transforms.Resize((64, 64)),\n",
    "  transforms.RandomRotation(10),\n",
    "  transforms.ColorJitter(brightness=0.2, contrast=0.2, saturation=0.1),\n",
    "  transforms.ToTensor(),\n",
    "  transforms.Normalize(mean=[0.485, 0.456, 0.406], std=[0.229, 0.224, 0.225])\n",
    "])"
   ]
  },
  {
   "cell_type": "code",
   "execution_count": 29,
   "id": "ef6089cd",
   "metadata": {},
   "outputs": [
    {
     "name": "stdout",
     "output_type": "stream",
     "text": [
      "Creating dataset...\n",
      "Loading CSV from: dataset/Train.csv\n",
      "Dataset loaded: 39209 samples\n",
      "Columns: ['Width', 'Height', 'Roi.X1', 'Roi.Y1', 'Roi.X2', 'Roi.Y2', 'ClassId', 'Path']\n",
      "Validating image paths...\n",
      "✓ Image 1 exists: Train/20/00020_00000_00000.png\n",
      "✓ Image 2 exists: Train/20/00020_00000_00001.png\n",
      "✓ Image 3 exists: Train/20/00020_00000_00002.png\n",
      "✓ Image 4 exists: Train/20/00020_00000_00003.png\n",
      "✓ Image 5 exists: Train/20/00020_00000_00004.png\n",
      "✓ Image 6 exists: Train/20/00020_00000_00005.png\n",
      "✓ Image 7 exists: Train/20/00020_00000_00006.png\n",
      "✓ Image 8 exists: Train/20/00020_00000_00007.png\n",
      "✓ Image 9 exists: Train/20/00020_00000_00008.png\n",
      "✓ Image 10 exists: Train/20/00020_00000_00009.png\n",
      "Dataset size: 39209\n"
     ]
    }
   ],
   "source": [
    "print(\"Creating dataset...\")\n",
    "train_dataset = GTSRBCustomDataset(CSV_PATH, ROOT_DIR, transform=transform)\n",
    "print(f\"Dataset size: {len(train_dataset)}\")"
   ]
  },
  {
   "cell_type": "code",
   "execution_count": 30,
   "id": "ae7afe2a",
   "metadata": {},
   "outputs": [
    {
     "name": "stdout",
     "output_type": "stream",
     "text": [
      "Testing dataset loading...\n",
      "Sample loaded successfully - Image shape: torch.Size([3, 64, 64]), Label: 20\n"
     ]
    },
    {
     "data": {
      "image/png": "[encoded data removed]",
      "text/plain": [
       "<Figure size 640x480 with 1 Axes>"
      ]
     },
     "metadata": {},
     "output_type": "display_data"
    }
   ],
   "source": [
    "print(\"Testing dataset loading...\")\n",
    "try:\n",
    "  sample_image, sample_label = train_dataset[0]\n",
    "  print(f\"Sample loaded successfully - Image shape: {sample_image.shape}, Label: {sample_label}\")\n",
    "  \n",
    "  image_np = sample_image.permute(1, 2, 0).numpy()\n",
    "  image_np = (image_np * 0.5 + 0.5).clip(0, 1)\n",
    "\n",
    "  plt.imshow(image_np)\n",
    "  plt.title(f\"Class ID: {sample_label}\")\n",
    "  plt.axis('off')\n",
    "  plt.show()\n",
    "\n",
    "except Exception as e:\n",
    "  print(f\"Error loading sample: {e}\")\n",
    "  exit(1)"
   ]
  },
  {
   "cell_type": "code",
   "execution_count": 31,
   "id": "2317226e",
   "metadata": {},
   "outputs": [],
   "source": [
    "train_loader = DataLoader(\n",
    "  train_dataset, \n",
    "  batch_size=BATCH_SIZE, \n",
    "  shuffle=True, \n",
    "  num_workers=0,\n",
    "  pin_memory=True if device.type == 'cuda' else False\n",
    ")"
   ]
  },
  {
   "cell_type": "code",
   "execution_count": 32,
   "id": "f0e1d949",
   "metadata": {},
   "outputs": [
    {
     "name": "stdout",
     "output_type": "stream",
     "text": [
      "Testing batch loading...\n",
      "Batch loaded successfully - Batch shape: torch.Size([32, 3, 64, 64])\n"
     ]
    }
   ],
   "source": [
    "print(\"Testing batch loading...\")\n",
    "try:\n",
    "  for batch_images, batch_labels in train_loader:\n",
    "    print(f\"Batch loaded successfully - Batch shape: {batch_images.shape}\")\n",
    "    break\n",
    "except Exception as e:\n",
    "  print(f\"Error loading batch: {e}\")\n",
    "  exit(1)"
   ]
  },
  {
   "cell_type": "code",
   "execution_count": 33,
   "id": "5a60b2ea",
   "metadata": {},
   "outputs": [
    {
     "name": "stdout",
     "output_type": "stream",
     "text": [
      "Loading model...\n",
      "Model loaded on cuda\n"
     ]
    }
   ],
   "source": [
    "print(\"Loading model...\")\n",
    "model = CNNModel(num_classes=43).to(device)\n",
    "print(f\"Model loaded on {device}\")"
   ]
  },
  {
   "cell_type": "code",
   "execution_count": 34,
   "id": "0fd23904",
   "metadata": {},
   "outputs": [],
   "source": [
    "criterion = nn.CrossEntropyLoss()\n",
    "optimizer = optim.Adam(model.parameters(), lr=1e-3)"
   ]
  },
  {
   "cell_type": "code",
   "execution_count": 35,
   "id": "93a0586f",
   "metadata": {},
   "outputs": [],
   "source": [
    "os.makedirs(\"outputs/checkpoints\", exist_ok=True)"
   ]
  },
  {
   "cell_type": "code",
   "execution_count": 36,
   "id": "8178a669",
   "metadata": {},
   "outputs": [
    {
     "name": "stdout",
     "output_type": "stream",
     "text": [
      "Starting training...\n",
      "\n",
      "--- Epoch 1/10 ---\n"
     ]
    },
    {
     "name": "stderr",
     "output_type": "stream",
     "text": [
      "Epoch 1: 100%|█████████████████████████| 1226/1226 [00:58<00:00, 20.79it/s, acc=0.8244, loss=0.1361]\n"
     ]
    },
    {
     "name": "stdout",
     "output_type": "stream",
     "text": [
      "1/10 - Loss: 0.6379 - Acc: 0.8244\n",
      "\n",
      "--- Epoch 2/10 ---\n"
     ]
    },
    {
     "name": "stderr",
     "output_type": "stream",
     "text": [
      "Epoch 2: 100%|█████████████████████████| 1226/1226 [00:58<00:00, 21.01it/s, acc=0.9550, loss=0.1062]\n"
     ]
    },
    {
     "name": "stdout",
     "output_type": "stream",
     "text": [
      "2/10 - Loss: 0.1582 - Acc: 0.9550\n",
      "\n",
      "--- Epoch 3/10 ---\n"
     ]
    },
    {
     "name": "stderr",
     "output_type": "stream",
     "text": [
      "Epoch 3: 100%|█████████████████████████| 1226/1226 [00:57<00:00, 21.31it/s, acc=0.9691, loss=0.0027]\n"
     ]
    },
    {
     "name": "stdout",
     "output_type": "stream",
     "text": [
      "3/10 - Loss: 0.1066 - Acc: 0.9691\n",
      "\n",
      "--- Epoch 4/10 ---\n"
     ]
    },
    {
     "name": "stderr",
     "output_type": "stream",
     "text": [
      "Epoch 4: 100%|█████████████████████████| 1226/1226 [00:58<00:00, 21.06it/s, acc=0.9739, loss=0.1270]\n"
     ]
    },
    {
     "name": "stdout",
     "output_type": "stream",
     "text": [
      "4/10 - Loss: 0.0872 - Acc: 0.9739\n",
      "\n",
      "--- Epoch 5/10 ---\n"
     ]
    },
    {
     "name": "stderr",
     "output_type": "stream",
     "text": [
      "Epoch 5: 100%|█████████████████████████| 1226/1226 [00:59<00:00, 20.61it/s, acc=0.9770, loss=0.0104]\n"
     ]
    },
    {
     "name": "stdout",
     "output_type": "stream",
     "text": [
      "5/10 - Loss: 0.0818 - Acc: 0.9770\n",
      "\n",
      "--- Epoch 6/10 ---\n"
     ]
    },
    {
     "name": "stderr",
     "output_type": "stream",
     "text": [
      "Epoch 6: 100%|█████████████████████████| 1226/1226 [00:58<00:00, 20.98it/s, acc=0.9818, loss=0.0093]\n"
     ]
    },
    {
     "name": "stdout",
     "output_type": "stream",
     "text": [
      "6/10 - Loss: 0.0633 - Acc: 0.9818\n",
      "\n",
      "--- Epoch 7/10 ---\n"
     ]
    },
    {
     "name": "stderr",
     "output_type": "stream",
     "text": [
      "Epoch 7: 100%|█████████████████████████| 1226/1226 [00:58<00:00, 20.97it/s, acc=0.9821, loss=0.0000]\n"
     ]
    },
    {
     "name": "stdout",
     "output_type": "stream",
     "text": [
      "7/10 - Loss: 0.0640 - Acc: 0.9821\n",
      "\n",
      "--- Epoch 8/10 ---\n"
     ]
    },
    {
     "name": "stderr",
     "output_type": "stream",
     "text": [
      "Epoch 8: 100%|█████████████████████████| 1226/1226 [00:58<00:00, 21.07it/s, acc=0.9837, loss=0.0000]\n"
     ]
    },
    {
     "name": "stdout",
     "output_type": "stream",
     "text": [
      "8/10 - Loss: 0.0560 - Acc: 0.9837\n",
      "\n",
      "--- Epoch 9/10 ---\n"
     ]
    },
    {
     "name": "stderr",
     "output_type": "stream",
     "text": [
      "Epoch 9: 100%|█████████████████████████| 1226/1226 [00:57<00:00, 21.24it/s, acc=0.9817, loss=0.0000]\n"
     ]
    },
    {
     "name": "stdout",
     "output_type": "stream",
     "text": [
      "9/10 - Loss: 0.0596 - Acc: 0.9817\n",
      "\n",
      "--- Epoch 10/10 ---\n"
     ]
    },
    {
     "name": "stderr",
     "output_type": "stream",
     "text": [
      "Epoch 10: 100%|████████████████████████| 1226/1226 [00:57<00:00, 21.18it/s, acc=0.9866, loss=0.0107]"
     ]
    },
    {
     "name": "stdout",
     "output_type": "stream",
     "text": [
      "10/10 - Loss: 0.0460 - Acc: 0.9866\n"
     ]
    },
    {
     "name": "stderr",
     "output_type": "stream",
     "text": [
      "\n"
     ]
    }
   ],
   "source": [
    "print(\"Starting training...\")\n",
    "for epoch in range(EPOCHS):\n",
    "  model.train()\n",
    "  total_loss = 0\n",
    "  correct = 0\n",
    "  batch_count = 0\n",
    "  total_samples = 0\n",
    "\n",
    "  print(f\"\\n--- Epoch {epoch + 1}/{EPOCHS} ---\")\n",
    "  \n",
    "  progress_bar = tqdm(enumerate(train_loader), total=len(train_loader), desc=f\"Epoch {epoch + 1}\", ncols=100)\n",
    "\n",
    "  for batch_idx, (images, labels) in progress_bar:\n",
    "    try:\n",
    "      images, labels = images.to(device), labels.to(device)\n",
    "      outputs = model(images)\n",
    "      loss = criterion(outputs, labels)\n",
    "\n",
    "      optimizer.zero_grad()\n",
    "      loss.backward()\n",
    "      optimizer.step()\n",
    "\n",
    "      total_loss += loss.item()\n",
    "      correct += (outputs.argmax(1) == labels).sum().item()\n",
    "      total_samples += images.size(0)\n",
    "      batch_count += 1\n",
    "\n",
    "      current_loss = loss.item()\n",
    "      current_acc = correct / total_samples\n",
    "\n",
    "      progress_bar.set_postfix(loss=f\"{current_loss:.4f}\", acc=f\"{current_acc:.4f}\")\n",
    "\n",
    "    except Exception as e:\n",
    "      print(f\"Error in batch {batch_idx}: {e}\")\n",
    "      continue\n",
    "\n",
    "  if batch_count > 0:\n",
    "    avg_loss = total_loss / batch_count\n",
    "    acc = correct / len(train_dataset)\n",
    "    print(f\"{epoch + 1}/{EPOCHS} - Loss: {avg_loss:.4f} - Acc: {acc:.4f}\")\n",
    "  else:\n",
    "    print(f\"{epoch + 1}/{EPOCHS} - No valid batches processed\")"
   ]
  },
  {
   "cell_type": "code",
   "execution_count": 37,
   "id": "ca252cad",
   "metadata": {},
   "outputs": [
    {
     "name": "stdout",
     "output_type": "stream",
     "text": [
      "Saving model...\n"
     ]
    }
   ],
   "source": [
    "print(\"Saving model...\")\n",
    "torch.save(model.state_dict(), \"outputs/checkpoints/cnn.pth\")"
   ]
  },
  {
   "cell_type": "code",
   "execution_count": 38,
   "id": "b0d63b28",
   "metadata": {},
   "outputs": [
    {
     "name": "stdout",
     "output_type": "stream",
     "text": [
      "CNN Model saved at outputs/checkpoints/cnn.pth\n"
     ]
    }
   ],
   "source": [
    "print(\"CNN Model saved at outputs/checkpoints/cnn.pth\")"
   ]
  }
 ],
 "metadata": {
  "kernelspec": {
   "display_name": "traffic-signs",
   "language": "python",
   "name": "python3"
  },
  "language_info": {
   "codemirror_mode": {
    "name": "ipython",
    "version": 3
   },
   "file_extension": ".py",
   "mimetype": "text/x-python",
   "name": "python",
   "nbconvert_exporter": "python",
   "pygments_lexer": "ipython3",
   "version": "3.10.18"
  }
 },
 "nbformat": 4,
 "nbformat_minor": 5
}
